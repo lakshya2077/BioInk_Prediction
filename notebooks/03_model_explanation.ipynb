{
 "cells": [
  {
   "cell_type": "code",
   "execution_count": null,
   "id": "40fd6572",
   "metadata": {},
   "outputs": [],
   "source": [
    "# Cell 1: Imports and loading model/data\n",
    "import shap\n",
    "import joblib\n",
    "import pandas as pd\n",
    "import matplotlib.pyplot as plt\n",
    "from src.data_preprocessing import load_data, preprocess_data\n",
    "\n",
    "# Load model and preprocessor\n",
    "model = joblib.load(\"../outputs/models/printability_model.pkl\")  # ✅ Updated filename\n",
    "preprocessor = joblib.load(\"../outputs/models/preprocessor.pkl\")\n",
    "\n",
    "# Load and preprocess data\n",
    "df = load_data(\"../data/extended_printability_dataset_with_gelatin_silk.csv\")  # ✅ Updated filename\n",
    "target_column = \"Printable\"\n",
    "X_train, X_test, y_train, y_test, _ = preprocess_data(df, target_column)\n"
   ]
  },
  {
   "cell_type": "code",
   "execution_count": null,
   "id": "700047ad",
   "metadata": {},
   "outputs": [],
   "source": [
    "# Cell 2: SHAP Beeswarm Plot\n",
    "explainer = shap.TreeExplainer(model)\n",
    "\n",
    "# Handle sparse input if applicable\n",
    "X_sample = X_test[:100].toarray() if hasattr(X_test, \"toarray\") else X_test[:100]\n",
    "\n",
    "# Compute SHAP values\n",
    "shap_values = explainer.shap_values(X_sample)\n",
    "\n",
    "# Beeswarm plot\n",
    "shap.summary_plot(shap_values, X_sample, show=False)\n",
    "plt.tight_layout()\n",
    "plt.show()\n"
   ]
  },
  {
   "cell_type": "code",
   "execution_count": null,
   "id": "b5171fde",
   "metadata": {},
   "outputs": [],
   "source": [
    "# Cell 3: SHAP Bar Plot\n",
    "shap.summary_plot(shap_values, X_sample, plot_type=\"bar\", show=False)\n",
    "plt.tight_layout()\n",
    "plt.show()\n"
   ]
  }
 ],
 "metadata": {
  "language_info": {
   "name": "python"
  }
 },
 "nbformat": 4,
 "nbformat_minor": 5
}
