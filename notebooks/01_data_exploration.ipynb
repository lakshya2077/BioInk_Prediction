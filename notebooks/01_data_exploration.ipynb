{
 "cells": [
  {
   "cell_type": "code",
   "execution_count": null,
   "id": "aee84a92",
   "metadata": {},
   "outputs": [],
   "source": [
    "# Cell 1: Imports\n",
    "import pandas as pd\n",
    "import matplotlib.pyplot as plt\n",
    "import seaborn as sns\n",
    "sns.set(style=\"whitegrid\")  # Optional: For better visualizations\n"
   ]
  },
  {
   "cell_type": "code",
   "execution_count": null,
   "id": "a00829eb",
   "metadata": {},
   "outputs": [],
   "source": [
    "# Cell 2: Load the dataset\n",
    "df = pd.read_csv(\"../data/extended_printability_dataset_with_gelatin_silk.csv\")\n",
    "print(\"Dataset loaded successfully!\")\n"
   ]
  },
  {
   "cell_type": "code",
   "execution_count": null,
   "id": "37603932",
   "metadata": {},
   "outputs": [],
   "source": [
    "# Cell 3: Basic info\n",
    "df.info()\n"
   ]
  },
  {
   "cell_type": "code",
   "execution_count": null,
   "id": "af9cf73f",
   "metadata": {},
   "outputs": [],
   "source": [
    "# Cell 4: First few rows\n",
    "df.head()\n"
   ]
  },
  {
   "cell_type": "code",
   "execution_count": null,
   "id": "6c2c81f1",
   "metadata": {},
   "outputs": [],
   "source": [
    "# Cell 5: Summary statistics\n",
    "df.describe(include='all')\n"
   ]
  },
  {
   "cell_type": "code",
   "execution_count": null,
   "id": "90db8719",
   "metadata": {},
   "outputs": [],
   "source": [
    "# Cell 6: Check for missing values\n",
    "plt.figure(figsize=(10, 6))\n",
    "sns.heatmap(df.isnull(), cbar=False, cmap='viridis')\n",
    "plt.title(\"Missing Values Heatmap\")\n",
    "plt.show()\n"
   ]
  },
  {
   "cell_type": "code",
   "execution_count": null,
   "id": "ed3c702d",
   "metadata": {},
   "outputs": [],
   "source": [
    "# Cell 7: Target distribution\n",
    "target_column = 'Printable'\n",
    "if target_column in df.columns:\n",
    "    sns.countplot(data=df, x=target_column)\n",
    "    plt.title(f\"Distribution of {target_column}\")\n",
    "    plt.show()\n",
    "else:\n",
    "    print(f\"Target column '{target_column}' not found.\")\n"
   ]
  },
  {
   "cell_type": "code",
   "execution_count": null,
   "id": "4911cf0e",
   "metadata": {},
   "outputs": [],
   "source": [
    "# Cell 8: Explore the new column: Used_crosslinker\n",
    "if 'Used_crosslinker' in df.columns:\n",
    "    sns.countplot(data=df, x='Used_crosslinker', hue='Printable')\n",
    "    plt.title(\"Used_crosslinker vs. Printable\")\n",
    "    plt.xticks(rotation=45)\n",
    "    plt.tight_layout()\n",
    "    plt.show()\n",
    "else:\n",
    "    print(\"Column 'Used_crosslinker' not found.\")\n"
   ]
  },
  {
   "cell_type": "code",
   "execution_count": null,
   "id": "8911824b",
   "metadata": {},
   "outputs": [],
   "source": [
    "# Cell 9: Explore categorical features\n",
    "cat_cols = ['Needle', 'Remarks', 'Used_crosslinker']\n",
    "for col in cat_cols:\n",
    "    if col in df.columns:\n",
    "        plt.figure(figsize=(8, 4))\n",
    "        sns.countplot(data=df, x=col, hue='Printable')\n",
    "        plt.title(f'{col} vs. Printable')\n",
    "        plt.xticks(rotation=45)\n",
    "        plt.tight_layout()\n",
    "        plt.show()\n"
   ]
  }
 ],
 "metadata": {
  "language_info": {
   "name": "python"
  }
 },
 "nbformat": 4,
 "nbformat_minor": 5
}
