{
 "cells": [
  {
   "cell_type": "code",
   "execution_count": null,
   "id": "7a5e1de5",
   "metadata": {},
   "outputs": [],
   "source": [
    "# Cell 1: Imports\n",
    "import pandas as pd\n",
    "from sklearn.model_selection import train_test_split\n",
    "from sklearn.ensemble import RandomForestClassifier\n",
    "from sklearn.metrics import classification_report, confusion_matrix\n",
    "import matplotlib.pyplot as plt\n",
    "import seaborn as sns\n",
    "import joblib\n",
    "\n",
    "sns.set(style=\"whitegrid\")\n"
   ]
  },
  {
   "cell_type": "code",
   "execution_count": null,
   "id": "5cd88e5d",
   "metadata": {},
   "outputs": [],
   "source": [
    "# Cell 2: Load and preprocess data\n",
    "from src.data_preprocessing import load_data, preprocess_data\n",
    "\n",
    "df = load_data(\"../data/extended_printability_dataset_with_gelatin_silk.csv\")\n",
    "target_column = \"Printable\"\n",
    "\n",
    "X_train, X_test, y_train, y_test, preprocessor = preprocess_data(df, target_column)\n"
   ]
  },
  {
   "cell_type": "code",
   "execution_count": null,
   "id": "ce6acd6f",
   "metadata": {},
   "outputs": [],
   "source": [
    "# Cell 3: Train model\n",
    "model = RandomForestClassifier(n_estimators=100, random_state=42)\n",
    "model.fit(X_train, y_train)\n",
    "print(\"✅ Model trained successfully!\")\n"
   ]
  },
  {
   "cell_type": "code",
   "execution_count": null,
   "id": "66418571",
   "metadata": {},
   "outputs": [],
   "source": [
    "# Cell 4: Evaluate model\n",
    "y_pred = model.predict(X_test)\n",
    "\n",
    "print(\"📋 Classification Report:\\n\")\n",
    "print(classification_report(y_test, y_pred))\n",
    "\n",
    "# Confusion matrix\n",
    "cm = confusion_matrix(y_test, y_pred)\n",
    "plt.figure(figsize=(6, 4))\n",
    "sns.heatmap(cm, annot=True, fmt='d', cmap='Blues')\n",
    "plt.title(\"Confusion Matrix\")\n",
    "plt.xlabel(\"Predicted\")\n",
    "plt.ylabel(\"Actual\")\n",
    "plt.tight_layout()\n",
    "plt.show()\n"
   ]
  },
  {
   "cell_type": "code",
   "execution_count": null,
   "id": "26c02b3b",
   "metadata": {},
   "outputs": [],
   "source": [
    "# Cell 5: Save model and preprocessor\n",
    "joblib.dump(model, \"../outputs/models/printability_model.pkl\")  # ✅ Renamed to match main.py\n",
    "joblib.dump(preprocessor, \"../outputs/models/preprocessor.pkl\")\n",
    "print(\"💾 Model and preprocessor saved to ../outputs/models/\")\n"
   ]
  }
 ],
 "metadata": {
  "language_info": {
   "name": "python"
  }
 },
 "nbformat": 4,
 "nbformat_minor": 5
}
