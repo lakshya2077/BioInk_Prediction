{
 "cells": [
  {
   "cell_type": "code",
   "execution_count": null,
   "id": "5ed8d123",
   "metadata": {
    "vscode": {
     "languageId": "plaintext"
    }
   },
   "outputs": [],
   "source": [
    "# Cell 1: Imports\n",
    "import pandas as pd\n",
    "import matplotlib.pyplot as plt\n",
    "import seaborn as sns\n",
    "from sklearn.preprocessing import LabelEncoder\n",
    "from sklearn.model_selection import train_test_split\n",
    "from sklearn.multioutput import MultiOutputRegressor\n",
    "from sklearn.ensemble import RandomForestRegressor\n",
    "from sklearn.metrics import mean_squared_error, r2_score\n",
    "\n",
    "sns.set(style=\"whitegrid\")\n"
   ]
  },
  {
   "cell_type": "code",
   "execution_count": null,
   "id": "86418b24",
   "metadata": {
    "vscode": {
     "languageId": "plaintext"
    }
   },
   "outputs": [],
   "source": [
    "# Cell 2: Load Dataset\n",
    "df = pd.read_csv(\"../data/degradation_dataset.csv\")\n",
    "df.head()\n"
   ]
  },
  {
   "cell_type": "code",
   "execution_count": null,
   "id": "369f48c4",
   "metadata": {
    "vscode": {
     "languageId": "plaintext"
    }
   },
   "outputs": [],
   "source": [
    "# Cell 3: Basic Info\n",
    "print(\"Shape:\", df.shape)\n",
    "print(\"\\nData Types:\\n\", df.dtypes)\n",
    "print(\"\\nMissing Values:\\n\", df.isnull().sum())\n"
   ]
  },
  {
   "cell_type": "code",
   "execution_count": null,
   "id": "8c5b134f",
   "metadata": {
    "vscode": {
     "languageId": "plaintext"
    }
   },
   "outputs": [],
   "source": [
    "# Cell 4: Distribution of Input Features\n",
    "fig, axes = plt.subplots(1, 2, figsize=(12, 4))\n",
    "sns.histplot(df[\"Porosity_Percentage\"], kde=True, ax=axes[0])\n",
    "axes[0].set_title(\"Porosity Percentage Distribution\")\n",
    "\n",
    "sns.histplot(df[\"Immersion_Time_Days\"], kde=False, bins=10, ax=axes[1])\n",
    "axes[1].set_title(\"Immersion Time (Days)\")\n",
    "\n",
    "plt.tight_layout()\n",
    "plt.show()\n"
   ]
  },
  {
   "cell_type": "code",
   "execution_count": null,
   "id": "f891b565",
   "metadata": {
    "vscode": {
     "languageId": "plaintext"
    }
   },
   "outputs": [],
   "source": [
    "# Cell 5: Target Correlations\n",
    "target_cols = [\"Compressive_Stiffness_MPa\", \"Weight_Loss_Percentage\", \"Water_Absorption_Percentage\"]\n",
    "sns.heatmap(df[target_cols].corr(), annot=True, cmap=\"coolwarm\")\n",
    "plt.title(\"Correlation Matrix - Output Variables\")\n",
    "plt.show()\n"
   ]
  },
  {
   "cell_type": "code",
   "execution_count": null,
   "id": "536ac828",
   "metadata": {
    "vscode": {
     "languageId": "plaintext"
    }
   },
   "outputs": [],
   "source": [
    "# Cell 6: Boxplots for Scaffold_Geometry\n",
    "for col in target_cols:\n",
    "    plt.figure(figsize=(6, 4))\n",
    "    sns.boxplot(x=\"Scaffold_Geometry\", y=col, data=df)\n",
    "    plt.title(f\"{col} vs Scaffold Geometry\")\n",
    "    plt.xticks(rotation=45)\n",
    "    plt.tight_layout()\n",
    "    plt.show()\n"
   ]
  },
  {
   "cell_type": "code",
   "execution_count": null,
   "id": "522e2597",
   "metadata": {
    "vscode": {
     "languageId": "plaintext"
    }
   },
   "outputs": [],
   "source": [
    "# Cell 7: Encode Categorical Column\n",
    "df[\"Scaffold_Geometry\"] = LabelEncoder().fit_transform(df[\"Scaffold_Geometry\"])\n",
    "df.head()\n"
   ]
  },
  {
   "cell_type": "code",
   "execution_count": null,
   "id": "4122cb89",
   "metadata": {
    "vscode": {
     "languageId": "plaintext"
    }
   },
   "outputs": [],
   "source": [
    "# Cell 8: Define Inputs and Outputs\n",
    "X = df[[\"Scaffold_Geometry\", \"Porosity_Percentage\", \"Immersion_Time_Days\", \"Mechanical_Loading\"]]\n",
    "y = df[target_cols]\n",
    "\n",
    "print(\"X shape:\", X.shape)\n",
    "print(\"y shape:\", y.shape)\n"
   ]
  },
  {
   "cell_type": "code",
   "execution_count": null,
   "id": "ff6db70c",
   "metadata": {
    "vscode": {
     "languageId": "plaintext"
    }
   },
   "outputs": [],
   "source": [
    "# Cell 9: Train-Test Split\n",
    "X_train, X_test, y_train, y_test = train_test_split(X, y, test_size=0.2, random_state=42)\n"
   ]
  },
  {
   "cell_type": "code",
   "execution_count": null,
   "id": "4ffa8226",
   "metadata": {
    "vscode": {
     "languageId": "plaintext"
    }
   },
   "outputs": [],
   "source": [
    "# Cell 10: Initial Model Training\n",
    "model = MultiOutputRegressor(RandomForestRegressor(random_state=42))\n",
    "model.fit(X_train, y_train)\n",
    "\n",
    "y_pred = model.predict(X_test)\n",
    "\n",
    "print(\"R² Score:\", r2_score(y_test, y_pred, multioutput='uniform_average'))\n",
    "print(\"RMSE:\", mean_squared_error(y_test, y_pred, squared=False))\n"
   ]
  },
  {
   "cell_type": "code",
   "execution_count": null,
   "id": "a4db837c",
   "metadata": {
    "vscode": {
     "languageId": "plaintext"
    }
   },
   "outputs": [],
   "source": [
    "# Cell 11: Compare Predictions\n",
    "results = y_test.copy()\n",
    "results[[\"Pred_Stiffness\", \"Pred_WeightLoss\", \"Pred_WaterAbsorp\"]] = y_pred\n",
    "results.head()\n"
   ]
  }
 ],
 "metadata": {
  "language_info": {
   "name": "python"
  }
 },
 "nbformat": 4,
 "nbformat_minor": 5
}
